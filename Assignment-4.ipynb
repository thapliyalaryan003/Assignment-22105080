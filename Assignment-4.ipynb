{
 "cells": [
  {
   "cell_type": "code",
   "execution_count": 1,
   "id": "70d1e62f",
   "metadata": {},
   "outputs": [
    {
     "name": "stdout",
     "output_type": "stream",
     "text": [
      "PLEASE ENTER YOUR MARKS-80\n",
      "A\n"
     ]
    }
   ],
   "source": [
    "a=int(input(\"PLEASE ENTER YOUR MARKS-\"))\n",
    "if(a<25):\n",
    "    print(\"F\")\n",
    "elif(25 <= a<45):\n",
    "    print(\"E\")\n",
    "elif(45<=a<50):\n",
    "    print(\"D\")\n",
    "elif(50<=a<60):\n",
    "    print(\"C\")\n",
    "elif(60<=a<80):\n",
    "    print(\"B\")\n",
    "elif(a>=80 and a<100):\n",
    "    print(\"A\")\n",
    "else:\n",
    "    print(\"ENTER VALID MARKS OUT OF 100\")"
   ]
  },
  {
   "cell_type": "code",
   "execution_count": 1,
   "id": "9d063501",
   "metadata": {},
   "outputs": [
    {
     "name": "stdout",
     "output_type": "stream",
     "text": [
      "4000\n",
      "Leap year\n"
     ]
    }
   ],
   "source": [
    "year = int(input())\n",
    "if(year%4==0 ):\n",
    "    if(year%100==0):\n",
    "        if(year%400==0):\n",
    "            print(\"Leap year\")\n",
    "        else:\n",
    "            print('Not a leap year')    \n",
    "    else:\n",
    "        print('Leap year')     \n",
    "else:\n",
    "    print(\"Not a leap year\")    "
   ]
  },
  {
   "cell_type": "code",
   "execution_count": 2,
   "id": "c9c5d8b1",
   "metadata": {},
   "outputs": [
    {
     "name": "stdout",
     "output_type": "stream",
     "text": [
      "9 X 6\n",
      "54\n",
      "RIGHT!\n",
      "6 X 3\n",
      "18\n",
      "RIGHT!\n",
      "0 X 6\n",
      "0\n",
      "RIGHT!\n",
      "6 X 2\n",
      "12\n",
      "RIGHT!\n",
      "1 X 6\n",
      "5\n",
      "Wrong.The answer is  6\n",
      "7 X 3\n",
      "21\n",
      "RIGHT!\n",
      "0 X 3\n",
      "0\n",
      "RIGHT!\n",
      "9 X 5\n",
      "45\n",
      "RIGHT!\n",
      "2 X 6\n",
      "12\n",
      "RIGHT!\n",
      "0 X 2\n",
      "0\n",
      "RIGHT!\n"
     ]
    }
   ],
   "source": [
    "import random\n",
    "a=list(range(0,10))\n",
    "for c in range(0,10):\n",
    "    e=random.choice(a) #we can also use random.randint(0,10)\n",
    "    f=random.choice(a)\n",
    "    print(e,\"X\",f)\n",
    "    b=int(input())\n",
    "    if(b==e*f):\n",
    "        print(\"RIGHT!\")\n",
    "    else:\n",
    "        print(\"Wrong.The answer is \",e*f)"
   ]
  },
  {
   "cell_type": "code",
   "execution_count": 7,
   "id": "26e8176a",
   "metadata": {},
   "outputs": [
    {
     "name": "stdout",
     "output_type": "stream",
     "text": [
      "177\n"
     ]
    }
   ],
   "source": [
    "for x in range (1,201):\n",
    "    a=x%5\n",
    "    b=x%6\n",
    "    c=x%7\n",
    "    if(a==2 and b==3 and c==2):\n",
    "        print (x)"
   ]
  },
  {
   "cell_type": "code",
   "execution_count": null,
   "id": "dd80176f",
   "metadata": {},
   "outputs": [],
   "source": []
  },
  {
   "cell_type": "code",
   "execution_count": null,
   "id": "c4d97038",
   "metadata": {},
   "outputs": [],
   "source": []
  },
  {
   "cell_type": "code",
   "execution_count": null,
   "id": "f6a1dca4",
   "metadata": {},
   "outputs": [],
   "source": []
  },
  {
   "cell_type": "code",
   "execution_count": null,
   "id": "10cfb107",
   "metadata": {},
   "outputs": [],
   "source": []
  },
  {
   "cell_type": "code",
   "execution_count": null,
   "id": "614994d0",
   "metadata": {},
   "outputs": [],
   "source": []
  }
 ],
 "metadata": {
  "kernelspec": {
   "display_name": "Python 3 (ipykernel)",
   "language": "python",
   "name": "python3"
  },
  "language_info": {
   "codemirror_mode": {
    "name": "ipython",
    "version": 3
   },
   "file_extension": ".py",
   "mimetype": "text/x-python",
   "name": "python",
   "nbconvert_exporter": "python",
   "pygments_lexer": "ipython3",
   "version": "3.9.13"
  }
 },
 "nbformat": 4,
 "nbformat_minor": 5
}
