{
 "cells": [
  {
   "cell_type": "code",
   "execution_count": 1,
   "id": "eeb513e8",
   "metadata": {},
   "outputs": [
    {
     "name": "stdout",
     "output_type": "stream",
     "text": [
      "First No-1\n",
      "Second No-2\n",
      "Third No-3\n",
      "2.0\n"
     ]
    }
   ],
   "source": [
    "#1\n",
    "a=int(input(\"First No-\"))\n",
    "b=int(input('Second No-'))\n",
    "c=int(input('Third No-'))\n",
    "print((a+b+c)/3)"
   ]
  },
  {
   "cell_type": "code",
   "execution_count": 2,
   "id": "2cf14b1a",
   "metadata": {},
   "outputs": [
    {
     "name": "stdout",
     "output_type": "stream",
     "text": [
      "Gross Income(to nearest penny)-10000\n",
      "Standard Deduction-1000\n",
      "No. of Dependants-2\n",
      "600.0 dollars\n"
     ]
    }
   ],
   "source": [
    "#2\n",
    "a=float(input(\"Gross Income(to nearest penny)-\"))\n",
    "b=int(input('Standard Deduction-'))\n",
    "c=int(input('No. of Dependants-'))\n",
    "d=a-b-(c*3000)\n",
    "e=d*20/100\n",
    "if(e<0):\n",
    "    print(\"0 dollars\")\n",
    "else:\n",
    "    print(e,'dollars')\n"
   ]
  },
  {
   "cell_type": "code",
   "execution_count": 1,
   "id": "8053fcc8",
   "metadata": {},
   "outputs": [
    {
     "name": "stdout",
     "output_type": "stream",
     "text": [
      "ENTER NUMBER OF SECS 100\n",
      "1 minutes 40 seconds\n"
     ]
    }
   ],
   "source": [
    "#3\n",
    "a=int(input(\"ENTER NUMBER OF SECS \"))\n",
    "print(a//60,\"minutes\",a%60,\"seconds\")"
   ]
  },
  {
   "cell_type": "code",
   "execution_count": 17,
   "id": "d779630e",
   "metadata": {},
   "outputs": [
    {
     "name": "stdout",
     "output_type": "stream",
     "text": [
      "75.0\n"
     ]
    }
   ],
   "source": [
    "#4\n",
    "a=25\n",
    "b='25'\n",
    "c=25.0\n",
    "d=int(b)\n",
    "e=a+c+d\n",
    "f=str(e)\n",
    "print(f)"
   ]
  },
  {
   "cell_type": "code",
   "execution_count": 29,
   "id": "46ed6f3b",
   "metadata": {},
   "outputs": [
    {
     "name": "stdout",
     "output_type": "stream",
     "text": [
      "0  ---  0.0   1.0\n",
      "15  ---  0.2588   0.9659\n",
      "30  ---  0.5   0.866\n",
      "45  ---  0.7071   0.7071\n",
      "60  ---  0.866   0.5\n",
      "75  ---  0.9659   0.2588\n",
      "90  ---  1.0   0.0\n",
      "105  ---  0.9659   -0.2588\n",
      "120  ---  0.866   -0.5\n",
      "135  ---  0.7071   -0.7071\n",
      "150  ---  0.5   -0.866\n",
      "165  ---  0.2588   -0.9659\n",
      "180  ---  0.0   -1.0\n",
      "195  ---  -0.2588   -0.9659\n",
      "210  ---  -0.5   -0.866\n",
      "225  ---  -0.7071   -0.7071\n",
      "240  ---  -0.866   -0.5\n",
      "255  ---  -0.9659   -0.2588\n",
      "270  ---  -1.0   -0.0\n",
      "285  ---  -0.9659   0.2588\n",
      "300  ---  -0.866   0.5\n",
      "315  ---  -0.7071   0.7071\n",
      "330  ---  -0.5   0.866\n",
      "345  ---  -0.2588   0.9659\n"
     ]
    }
   ],
   "source": [
    "#5\n",
    "import math\n",
    "for n in range(0,24):\n",
    "    a=0 + n*math.pi/12\n",
    "    print(n*15,\" --- \",round(math.sin(a),4),\" \",round(math.cos(a),4))"
   ]
  },
  {
   "cell_type": "code",
   "execution_count": null,
   "id": "1b5ae516",
   "metadata": {},
   "outputs": [],
   "source": []
  },
  {
   "cell_type": "code",
   "execution_count": null,
   "id": "54b4f89f",
   "metadata": {},
   "outputs": [],
   "source": []
  }
 ],
 "metadata": {
  "kernelspec": {
   "display_name": "Python 3 (ipykernel)",
   "language": "python",
   "name": "python3"
  },
  "language_info": {
   "codemirror_mode": {
    "name": "ipython",
    "version": 3
   },
   "file_extension": ".py",
   "mimetype": "text/x-python",
   "name": "python",
   "nbconvert_exporter": "python",
   "pygments_lexer": "ipython3",
   "version": "3.9.13"
  }
 },
 "nbformat": 4,
 "nbformat_minor": 5
}
