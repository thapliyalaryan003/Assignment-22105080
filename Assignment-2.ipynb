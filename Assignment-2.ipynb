{
 "cells": [
  {
   "cell_type": "code",
   "execution_count": 12,
   "id": "409069e5",
   "metadata": {},
   "outputs": [
    {
     "name": "stdout",
     "output_type": "stream",
     "text": [
      "35\n"
     ]
    }
   ],
   "source": [
    "#1.a\n",
    "a=\"Python is a case sensitive language\"\n",
    "print(len(a))"
   ]
  },
  {
   "cell_type": "code",
   "execution_count": 13,
   "id": "dcc2a681",
   "metadata": {},
   "outputs": [
    {
     "data": {
      "text/plain": [
       "'egaugnal evitisnes esac a si nohtyP'"
      ]
     },
     "execution_count": 13,
     "metadata": {},
     "output_type": "execute_result"
    }
   ],
   "source": [
    "#1.b\n",
    "a[slice(None,None,-1)]"
   ]
  },
  {
   "cell_type": "code",
   "execution_count": 14,
   "id": "f04004e0",
   "metadata": {},
   "outputs": [
    {
     "data": {
      "text/plain": [
       "'a case sensitive'"
      ]
     },
     "execution_count": 14,
     "metadata": {},
     "output_type": "execute_result"
    }
   ],
   "source": [
    "#1.c\n",
    "a[slice(10,26,1)]"
   ]
  },
  {
   "cell_type": "code",
   "execution_count": 17,
   "id": "c1bd8dc4",
   "metadata": {},
   "outputs": [
    {
     "data": {
      "text/plain": [
       "'Python is object oriented language'"
      ]
     },
     "execution_count": 17,
     "metadata": {},
     "output_type": "execute_result"
    }
   ],
   "source": [
    "#1.d\n",
    "a.replace(\"a case sensitive\", \"object oriented\")"
   ]
  },
  {
   "cell_type": "code",
   "execution_count": 25,
   "id": "99f269a5",
   "metadata": {},
   "outputs": [
    {
     "name": "stdout",
     "output_type": "stream",
     "text": [
      "9\n"
     ]
    }
   ],
   "source": [
    "#1.e\n",
    "print(a.index(\" a \"))"
   ]
  },
  {
   "cell_type": "code",
   "execution_count": 28,
   "id": "717fc90b",
   "metadata": {},
   "outputs": [
    {
     "data": {
      "text/plain": [
       "'Pythonisacasesensitivelanguage'"
      ]
     },
     "execution_count": 28,
     "metadata": {},
     "output_type": "execute_result"
    }
   ],
   "source": [
    "#1.f\n",
    "a.replace(\" \",\"\")"
   ]
  },
  {
   "cell_type": "code",
   "execution_count": 29,
   "id": "c70916d0",
   "metadata": {},
   "outputs": [
    {
     "name": "stdout",
     "output_type": "stream",
     "text": [
      "Hey, ARYAN THAPLIYAL  Here!\n",
      "My SID is 22105080\n",
      "I am from  ECE  department and my CGPA is  10\n"
     ]
    }
   ],
   "source": [
    "#2\n",
    "n='ARYAN THAPLIYAL'\n",
    "s=22105080\n",
    "d='ECE'\n",
    "c='10'\n",
    "print('''Hey,''',n,''' Here!\n",
    "My SID is''',s)\n",
    "print('I am from ',d,' department and my CGPA is ',c)"
   ]
  },
  {
   "cell_type": "code",
   "execution_count": 35,
   "id": "c52ed684",
   "metadata": {},
   "outputs": [
    {
     "name": "stdout",
     "output_type": "stream",
     "text": [
      "8\n",
      "58\n",
      "50\n",
      "224\n",
      "14 0\n"
     ]
    }
   ],
   "source": [
    "#3\n",
    "a=56\n",
    "b=10\n",
    "print(a&b)\n",
    "print(a|b)\n",
    "print(a^b)\n",
    "print(a<<2)\n",
    "print(a>>2,b>>4)"
   ]
  },
  {
   "cell_type": "code",
   "execution_count": 39,
   "id": "8dd54945",
   "metadata": {},
   "outputs": [
    {
     "name": "stdout",
     "output_type": "stream",
     "text": [
      "Please Enter the First Number- 20\n",
      "Please Enter the Second Number- 30\n",
      "Please Enter the Third Number- 50\n",
      "50 greatest\n"
     ]
    }
   ],
   "source": [
    "#4\n",
    "a=int(input(\"Please Enter the First Number- \"))\n",
    "b=int(input(\"Please Enter the Second Number- \"))\n",
    "c=int(input(\"Please Enter the Third Number- \"))\n",
    "if(a>b and a>c):\n",
    "    print(a,\" greatest\")\n",
    "elif(b>c and b>a):\n",
    "    print(b,\"greatest\")\n",
    "elif(c>a and c>b):\n",
    "    print(c,\"greatest\")\n",
    "else:\n",
    "    print(\"No number greatest\")"
   ]
  },
  {
   "cell_type": "code",
   "execution_count": 41,
   "id": "841d87c8",
   "metadata": {},
   "outputs": [
    {
     "name": "stdout",
     "output_type": "stream",
     "text": [
      "Enter any statement here- my name is aryan thapliyal\n",
      "Yes\n"
     ]
    }
   ],
   "source": [
    "#5\n",
    "statement = input(\"Enter any statement here- \")\n",
    "if 'name' in statement :\n",
    "    print(\"Yes\")\n",
    "else :\n",
    "    print(\"No\")"
   ]
  },
  {
   "cell_type": "code",
   "execution_count": 42,
   "id": "1e3cc959",
   "metadata": {},
   "outputs": [
    {
     "name": "stdout",
     "output_type": "stream",
     "text": [
      "Please Enter the First Side Length- 10\n",
      "Please Enter the Second Side Length- 10\n",
      "Please Enter the Third Side Length- 10\n",
      "No\n"
     ]
    }
   ],
   "source": [
    "#6\n",
    "a=int(input(\"Please Enter the First Side Length- \"))\n",
    "b=int(input(\"Please Enter the Second Side Length- \"))\n",
    "c=int(input(\"Please Enter the Third Side Length- \"))\n",
    "if(a>b+c or b>c+a or c>b+a):\n",
    "    print(\"Yes\")\n",
    "else:\n",
    "    print(\"No\")"
   ]
  },
  {
   "cell_type": "code",
   "execution_count": null,
   "id": "7048eb89",
   "metadata": {},
   "outputs": [],
   "source": []
  }
 ],
 "metadata": {
  "kernelspec": {
   "display_name": "Python 3 (ipykernel)",
   "language": "python",
   "name": "python3"
  },
  "language_info": {
   "codemirror_mode": {
    "name": "ipython",
    "version": 3
   },
   "file_extension": ".py",
   "mimetype": "text/x-python",
   "name": "python",
   "nbconvert_exporter": "python",
   "pygments_lexer": "ipython3",
   "version": "3.9.13"
  }
 },
 "nbformat": 4,
 "nbformat_minor": 5
}
