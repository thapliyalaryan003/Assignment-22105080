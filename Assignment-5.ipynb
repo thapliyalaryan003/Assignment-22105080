{
 "cells": [
  {
   "cell_type": "code",
   "execution_count": 1,
   "id": "77680375",
   "metadata": {},
   "outputs": [
    {
     "name": "stdout",
     "output_type": "stream",
     "text": [
      "Please enter the string to be reversed:abcd\n",
      "The reversed string is : dcba\n"
     ]
    }
   ],
   "source": [
    "def reverse(r):\n",
    "    str = \"\"\n",
    "    for i in r:\n",
    "        str = i + str\n",
    "    return str\n",
    " \n",
    "r = str(input('Please enter the string to be reversed:'))\n",
    " \n",
    "print(\"The reversed string is : \", end=\"\")\n",
    "print(reverse(r))"
   ]
  },
  {
   "cell_type": "code",
   "execution_count": 2,
   "id": "bdc5d5fa",
   "metadata": {},
   "outputs": [
    {
     "name": "stdout",
     "output_type": "stream",
     "text": [
      "Please enter the Lower limit of range:0\n",
      "Please enter the Upper limit of range:100\n",
      "Please enter the number to be divided by:2\n",
      "0\n",
      "2\n",
      "4\n",
      "6\n",
      "8\n",
      "10\n",
      "12\n",
      "14\n",
      "16\n",
      "18\n",
      "20\n",
      "22\n",
      "24\n",
      "26\n",
      "28\n",
      "30\n",
      "32\n",
      "34\n",
      "36\n",
      "38\n",
      "40\n",
      "42\n",
      "44\n",
      "46\n",
      "48\n",
      "50\n",
      "52\n",
      "54\n",
      "56\n",
      "58\n",
      "60\n",
      "62\n",
      "64\n",
      "66\n",
      "68\n",
      "70\n",
      "72\n",
      "74\n",
      "76\n",
      "78\n",
      "80\n",
      "82\n",
      "84\n",
      "86\n",
      "88\n",
      "90\n",
      "92\n",
      "94\n",
      "96\n",
      "98\n",
      "100\n"
     ]
    }
   ],
   "source": [
    "x=int(input('Please enter the Lower limit of range:'))\n",
    "y=int(input('Please enter the Upper limit of range:'))\n",
    "p=int(input('Please enter the number to be divided by:'))\n",
    "for i in range(x,y+1):\n",
    "    if i%p==0:\n",
    "        print(i)\n"
   ]
  },
  {
   "cell_type": "code",
   "execution_count": null,
   "id": "e076c70a",
   "metadata": {},
   "outputs": [],
   "source": [
    "a=float(input('Please enter the Length of First side: '))\n",
    "b=float(input('Please enter the Length of Second side: '))\n",
    "c=float(input('Please enter the Length of the second side: '))\n",
    "while a and b and c>0:\n",
    "    if a+b>c and b+c>a and a+c>b:\n",
    "        s=(a+b+c)/2\n",
    "        import math\n",
    "        Area=math.sqrt(s*(s-a)*(s-b)*(s-c))\n",
    "        print('The Area of the Triangle is: ',Area)   \n",
    "        break \n",
    "    else:\n",
    "        print('Triangle does not exists.')\n",
    "        break"
   ]
  },
  {
   "cell_type": "code",
   "execution_count": null,
   "id": "5829fb77",
   "metadata": {},
   "outputs": [],
   "source": [
    "size=int(input('Please enter the number of lines of pattern: '))\n",
    "for i in range(size):\n",
    "    for j in range(i+1):\n",
    "        print('*', end='')    \n",
    "    print()\n",
    "\n",
    "for i in range(size):\n",
    "    for j in range(size-i-1):\n",
    "        print('*', end='')\n",
    "    print()    "
   ]
  },
  {
   "cell_type": "code",
   "execution_count": null,
   "id": "0867f023",
   "metadata": {},
   "outputs": [],
   "source": [
    "alpha = 65\n",
    "n=int(input('Enter the number of rows:'))\n",
    "for i in range(0,n):\n",
    "    for j in range(0,i+1):\n",
    "        char = chr(alpha)\n",
    "        print(char,end=\"\")\n",
    "        alpha+=1\n",
    "    print()"
   ]
  },
  {
   "cell_type": "code",
   "execution_count": null,
   "id": "8908a42b",
   "metadata": {},
   "outputs": [],
   "source": [
    "x=int(input('Please enter the Lower limit of the Range: '))\n",
    "y= int(input('Please enter the Upper Limit of the Range: '))\n",
    "for num in range(x,y+1):\n",
    "    if num>1:\n",
    "        for i in range(2,num):\n",
    "            if (num%i==0):\n",
    "                break\n",
    "        else:\n",
    "                print(num)"
   ]
  },
  {
   "cell_type": "code",
   "execution_count": null,
   "id": "42851eae",
   "metadata": {},
   "outputs": [],
   "source": [
    "x=int(input('Please enter the Lower limit of the range: '))\n",
    "y=int(input('Please enter the Upper limit of the range: '))\n",
    "for i in range(x,y+1):\n",
    "    if i%7==0 and i%11==0:\n",
    "        print(i)"
   ]
  },
  {
   "cell_type": "code",
   "execution_count": null,
   "id": "5d491ee4",
   "metadata": {},
   "outputs": [],
   "source": [
    "result=[]\n",
    "\n",
    "for i in range(0,10):\n",
    "   num= int(input('Enter the value: '))\n",
    "   result.append(num)\n",
    "\n",
    "print('Positive values:',[a for j,a in enumerate(result) if a>=0])\n",
    "print('Negative values:',[a for j,a in enumerate(result) if a<0])    \n",
    "\n",
    "print('Odd values:',[a for j, a in enumerate(result) if a%2==1 and a>0 ])\n",
    "print('Even Values:',[a for j,a in enumerate(result) if a%2==0 and a>0 ])\n",
    "\n",
    "from collections import Counter\n",
    "count=Counter(result)\n",
    "print(count)"
   ]
  },
  {
   "cell_type": "code",
   "execution_count": null,
   "id": "6efa3545",
   "metadata": {},
   "outputs": [],
   "source": [
    "result=[]\n",
    "\n",
    "n=int(input('Enter the number of elements in the list:'))\n",
    "\n",
    "for i in range(0,n):\n",
    "    eleme=int(input())\n",
    "    \n",
    "    result.append(eleme)\n",
    "\n",
    "\n",
    "print(result)\n",
    "\n",
    "from collections import Counter\n",
    "\n",
    "count=Counter(result)\n",
    "print(count)"
   ]
  },
  {
   "cell_type": "code",
   "execution_count": null,
   "id": "48cb46dd",
   "metadata": {},
   "outputs": [],
   "source": []
  },
  {
   "cell_type": "code",
   "execution_count": null,
   "id": "77d669cd",
   "metadata": {},
   "outputs": [],
   "source": []
  }
 ],
 "metadata": {
  "kernelspec": {
   "display_name": "Python 3 (ipykernel)",
   "language": "python",
   "name": "python3"
  },
  "language_info": {
   "codemirror_mode": {
    "name": "ipython",
    "version": 3
   },
   "file_extension": ".py",
   "mimetype": "text/x-python",
   "name": "python",
   "nbconvert_exporter": "python",
   "pygments_lexer": "ipython3",
   "version": "3.9.13"
  }
 },
 "nbformat": 4,
 "nbformat_minor": 5
}
